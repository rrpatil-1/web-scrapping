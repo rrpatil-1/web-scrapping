{
 "cells": [
  {
   "cell_type": "code",
   "execution_count": 1,
   "id": "a9959875",
   "metadata": {},
   "outputs": [],
   "source": [
    "import pandas as pd\n",
    "import requests\n",
    "from bs4 import BeautifulSoup\n",
    "import os"
   ]
  },
  {
   "cell_type": "code",
   "execution_count": 2,
   "id": "66e3cb6c",
   "metadata": {},
   "outputs": [],
   "source": [
    "#req=requests.get('''https://www.flipkart.com/laptops/laptops~buyback-guarantee-on-laptops-/pr?sid=6bo%2Cb5g&page=19''')\n",
    "url='''https://www.flipkart.com/mobiles/smartphones~type/pr?sid=tyy,4io&otracker=undefined_footer_footer'''\n",
    "req=requests.get(url)"
   ]
  },
  {
   "cell_type": "code",
   "execution_count": 3,
   "id": "b7cefd4e",
   "metadata": {},
   "outputs": [],
   "source": [
    "page=BeautifulSoup(req.content,'html.parser')"
   ]
  },
  {
   "cell_type": "code",
   "execution_count": 4,
   "id": "1eed8bc1",
   "metadata": {},
   "outputs": [],
   "source": [
    "data=page.find_all('div',{'class':'_2kHMtA'})"
   ]
  },
  {
   "cell_type": "code",
   "execution_count": 5,
   "id": "98b7f0b7",
   "metadata": {},
   "outputs": [
    {
     "data": {
      "text/plain": [
       "24"
      ]
     },
     "execution_count": 5,
     "metadata": {},
     "output_type": "execute_result"
    }
   ],
   "source": [
    "len(data)"
   ]
  },
  {
   "cell_type": "code",
   "execution_count": 6,
   "id": "1ce20242",
   "metadata": {},
   "outputs": [],
   "source": [
    "links=[]\n",
    "names=[]\n",
    "start_link='https://www.flipkart.com'\n",
    "prices=[]\n",
    "for items in data:\n",
    "    link=items.find('a')['href']\n",
    "    name=items.find('div',class_='_4rR01T').text\n",
    "    price=items.find('div',class_='_30jeq3 _1_WHN1').text\n",
    "    links.append(start_link+link)\n",
    "    names.append(name)\n",
    "    prices.append(price)\n",
    "    "
   ]
  },
  {
   "cell_type": "code",
   "execution_count": 7,
   "id": "2cdb461d",
   "metadata": {},
   "outputs": [],
   "source": [
    "df=pd.DataFrame({'product_name':names,'price':prices,'product_link':links})"
   ]
  },
  {
   "cell_type": "code",
   "execution_count": 10,
   "id": "8eed33f4",
   "metadata": {},
   "outputs": [
    {
     "data": {
      "text/html": [
       "<div>\n",
       "<style scoped>\n",
       "    .dataframe tbody tr th:only-of-type {\n",
       "        vertical-align: middle;\n",
       "    }\n",
       "\n",
       "    .dataframe tbody tr th {\n",
       "        vertical-align: top;\n",
       "    }\n",
       "\n",
       "    .dataframe thead th {\n",
       "        text-align: right;\n",
       "    }\n",
       "</style>\n",
       "<table border=\"1\" class=\"dataframe\">\n",
       "  <thead>\n",
       "    <tr style=\"text-align: right;\">\n",
       "      <th></th>\n",
       "      <th>product_name</th>\n",
       "      <th>price</th>\n",
       "      <th>product_link</th>\n",
       "    </tr>\n",
       "  </thead>\n",
       "  <tbody>\n",
       "    <tr>\n",
       "      <th>0</th>\n",
       "      <td>APPLE iPhone 13 (Starlight, 128 GB)</td>\n",
       "      <td>₹65,999</td>\n",
       "      <td>https://www.flipkart.com/apple-iphone-13-starl...</td>\n",
       "    </tr>\n",
       "    <tr>\n",
       "      <th>1</th>\n",
       "      <td>realme 9 (Sunburst Gold, 128 GB)</td>\n",
       "      <td>₹16,999</td>\n",
       "      <td>https://www.flipkart.com/realme-9-sunburst-gol...</td>\n",
       "    </tr>\n",
       "    <tr>\n",
       "      <th>2</th>\n",
       "      <td>realme 9 (Stargaze White, 128 GB)</td>\n",
       "      <td>₹16,999</td>\n",
       "      <td>https://www.flipkart.com/realme-9-stargaze-whi...</td>\n",
       "    </tr>\n",
       "    <tr>\n",
       "      <th>3</th>\n",
       "      <td>vivo T1 5G (Starlight Black, 128 GB)</td>\n",
       "      <td>₹16,990</td>\n",
       "      <td>https://www.flipkart.com/vivo-t1-5g-starlight-...</td>\n",
       "    </tr>\n",
       "    <tr>\n",
       "      <th>4</th>\n",
       "      <td>realme 9 (Meteor Black, 128 GB)</td>\n",
       "      <td>₹16,999</td>\n",
       "      <td>https://www.flipkart.com/realme-9-meteor-black...</td>\n",
       "    </tr>\n",
       "  </tbody>\n",
       "</table>\n",
       "</div>"
      ],
      "text/plain": [
       "                           product_name    price  \\\n",
       "0   APPLE iPhone 13 (Starlight, 128 GB)  ₹65,999   \n",
       "1      realme 9 (Sunburst Gold, 128 GB)  ₹16,999   \n",
       "2     realme 9 (Stargaze White, 128 GB)  ₹16,999   \n",
       "3  vivo T1 5G (Starlight Black, 128 GB)  ₹16,990   \n",
       "4       realme 9 (Meteor Black, 128 GB)  ₹16,999   \n",
       "\n",
       "                                        product_link  \n",
       "0  https://www.flipkart.com/apple-iphone-13-starl...  \n",
       "1  https://www.flipkart.com/realme-9-sunburst-gol...  \n",
       "2  https://www.flipkart.com/realme-9-stargaze-whi...  \n",
       "3  https://www.flipkart.com/vivo-t1-5g-starlight-...  \n",
       "4  https://www.flipkart.com/realme-9-meteor-black...  "
      ]
     },
     "execution_count": 10,
     "metadata": {},
     "output_type": "execute_result"
    }
   ],
   "source": [
    "df.head()"
   ]
  },
  {
   "cell_type": "code",
   "execution_count": 9,
   "id": "3892be27",
   "metadata": {},
   "outputs": [
    {
     "data": {
      "text/plain": [
       "'C:\\\\Users\\\\rahul.patil\\\\Desktop\\\\Roshna'"
      ]
     },
     "execution_count": 9,
     "metadata": {},
     "output_type": "execute_result"
    }
   ],
   "source": [
    "df.to_csv('mobile.csv')"
   ]
  },
  {
   "cell_type": "code",
   "execution_count": null,
   "id": "a0a2f65d",
   "metadata": {},
   "outputs": [],
   "source": []
  }
 ],
 "metadata": {
  "kernelspec": {
   "display_name": "Python 3 (ipykernel)",
   "language": "python",
   "name": "python3"
  },
  "language_info": {
   "codemirror_mode": {
    "name": "ipython",
    "version": 3
   },
   "file_extension": ".py",
   "mimetype": "text/x-python",
   "name": "python",
   "nbconvert_exporter": "python",
   "pygments_lexer": "ipython3",
   "version": "3.9.7"
  }
 },
 "nbformat": 4,
 "nbformat_minor": 5
}
